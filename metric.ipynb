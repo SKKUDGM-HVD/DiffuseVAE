{
 "cells": [
  {
   "cell_type": "code",
   "execution_count": 1,
   "id": "660eb98b-1bdd-4179-8018-f25333330518",
   "metadata": {
    "execution": {
     "iopub.execute_input": "2024-12-02T12:15:05.521305Z",
     "iopub.status.busy": "2024-12-02T12:15:05.520777Z",
     "iopub.status.idle": "2024-12-02T12:15:10.447067Z",
     "shell.execute_reply": "2024-12-02T12:15:10.445777Z",
     "shell.execute_reply.started": "2024-12-02T12:15:05.521274Z"
    },
    "tags": []
   },
   "outputs": [
    {
     "name": "stdout",
     "output_type": "stream",
     "text": [
      "Requirement already satisfied: torch-fidelity in /opt/conda/lib/python3.9/site-packages (0.3.0)\n",
      "Requirement already satisfied: numpy in /opt/conda/lib/python3.9/site-packages (from torch-fidelity) (1.23.3)\n",
      "Requirement already satisfied: Pillow in /opt/conda/lib/python3.9/site-packages (from torch-fidelity) (10.2.0)\n",
      "Requirement already satisfied: scipy in /opt/conda/lib/python3.9/site-packages (from torch-fidelity) (1.11.4)\n",
      "Requirement already satisfied: torch in /opt/conda/lib/python3.9/site-packages (from torch-fidelity) (1.13.1+cu117)\n",
      "Requirement already satisfied: torchvision in /opt/conda/lib/python3.9/site-packages (from torch-fidelity) (0.14.1+cu117)\n",
      "Requirement already satisfied: tqdm in /opt/conda/lib/python3.9/site-packages (from torch-fidelity) (4.65.0)\n",
      "Requirement already satisfied: typing-extensions in /opt/conda/lib/python3.9/site-packages (from torch->torch-fidelity) (4.9.0)\n",
      "Requirement already satisfied: requests in /opt/conda/lib/python3.9/site-packages (from torchvision->torch-fidelity) (2.31.0)\n",
      "Requirement already satisfied: charset-normalizer<4,>=2 in /opt/conda/lib/python3.9/site-packages (from requests->torchvision->torch-fidelity) (2.0.4)\n",
      "Requirement already satisfied: idna<4,>=2.5 in /opt/conda/lib/python3.9/site-packages (from requests->torchvision->torch-fidelity) (3.4)\n",
      "Requirement already satisfied: urllib3<3,>=1.21.1 in /opt/conda/lib/python3.9/site-packages (from requests->torchvision->torch-fidelity) (1.25.11)\n",
      "Requirement already satisfied: certifi>=2017.4.17 in /opt/conda/lib/python3.9/site-packages (from requests->torchvision->torch-fidelity) (2023.11.17)\n",
      "\u001b[33mDEPRECATION: pytorch-lightning 1.7.6 has a non-standard dependency specifier torch>=1.9.*. pip 24.0 will enforce this behaviour change. A possible replacement is to upgrade to a newer version of pytorch-lightning or contact the author to suggest that they release a version with a conforming dependency specifiers. Discussion can be found at https://github.com/pypa/pip/issues/12063\u001b[0m\u001b[33m\n",
      "\u001b[0m\u001b[33mWARNING: Running pip as the 'root' user can result in broken permissions and conflicting behaviour with the system package manager. It is recommended to use a virtual environment instead: https://pip.pypa.io/warnings/venv\u001b[0m\u001b[33m\n",
      "\u001b[0mRequirement already satisfied: torchmetrics[image] in /opt/conda/lib/python3.9/site-packages (1.2.1)\n",
      "Requirement already satisfied: numpy>1.20.0 in /opt/conda/lib/python3.9/site-packages (from torchmetrics[image]) (1.23.3)\n",
      "Requirement already satisfied: packaging>17.1 in /opt/conda/lib/python3.9/site-packages (from torchmetrics[image]) (23.1)\n",
      "Requirement already satisfied: torch>=1.8.1 in /opt/conda/lib/python3.9/site-packages (from torchmetrics[image]) (1.13.1+cu117)\n",
      "Requirement already satisfied: lightning-utilities>=0.8.0 in /opt/conda/lib/python3.9/site-packages (from torchmetrics[image]) (0.10.0)\n",
      "Requirement already satisfied: torch-fidelity<=0.4.0 in /opt/conda/lib/python3.9/site-packages (from torchmetrics[image]) (0.3.0)\n",
      "Requirement already satisfied: scipy>1.0.0 in /opt/conda/lib/python3.9/site-packages (from torchmetrics[image]) (1.11.4)\n",
      "Requirement already satisfied: torchvision>=0.8 in /opt/conda/lib/python3.9/site-packages (from torchmetrics[image]) (0.14.1+cu117)\n",
      "Requirement already satisfied: setuptools in /opt/conda/lib/python3.9/site-packages (from lightning-utilities>=0.8.0->torchmetrics[image]) (68.2.2)\n",
      "Requirement already satisfied: typing-extensions in /opt/conda/lib/python3.9/site-packages (from lightning-utilities>=0.8.0->torchmetrics[image]) (4.9.0)\n",
      "Requirement already satisfied: Pillow in /opt/conda/lib/python3.9/site-packages (from torch-fidelity<=0.4.0->torchmetrics[image]) (10.2.0)\n",
      "Requirement already satisfied: tqdm in /opt/conda/lib/python3.9/site-packages (from torch-fidelity<=0.4.0->torchmetrics[image]) (4.65.0)\n",
      "Requirement already satisfied: requests in /opt/conda/lib/python3.9/site-packages (from torchvision>=0.8->torchmetrics[image]) (2.31.0)\n",
      "Requirement already satisfied: charset-normalizer<4,>=2 in /opt/conda/lib/python3.9/site-packages (from requests->torchvision>=0.8->torchmetrics[image]) (2.0.4)\n",
      "Requirement already satisfied: idna<4,>=2.5 in /opt/conda/lib/python3.9/site-packages (from requests->torchvision>=0.8->torchmetrics[image]) (3.4)\n",
      "Requirement already satisfied: urllib3<3,>=1.21.1 in /opt/conda/lib/python3.9/site-packages (from requests->torchvision>=0.8->torchmetrics[image]) (1.25.11)\n",
      "Requirement already satisfied: certifi>=2017.4.17 in /opt/conda/lib/python3.9/site-packages (from requests->torchvision>=0.8->torchmetrics[image]) (2023.11.17)\n",
      "\u001b[33mDEPRECATION: pytorch-lightning 1.7.6 has a non-standard dependency specifier torch>=1.9.*. pip 24.0 will enforce this behaviour change. A possible replacement is to upgrade to a newer version of pytorch-lightning or contact the author to suggest that they release a version with a conforming dependency specifiers. Discussion can be found at https://github.com/pypa/pip/issues/12063\u001b[0m\u001b[33m\n",
      "\u001b[0m\u001b[33mWARNING: Running pip as the 'root' user can result in broken permissions and conflicting behaviour with the system package manager. It is recommended to use a virtual environment instead: https://pip.pypa.io/warnings/venv\u001b[0m\u001b[33m\n",
      "\u001b[0m"
     ]
    }
   ],
   "source": [
    "!pip install torch-fidelity\n",
    "!pip install torchmetrics[image]"
   ]
  },
  {
   "cell_type": "code",
   "execution_count": null,
   "id": "3d4d8fb6-9167-4ef6-89af-03dc67409449",
   "metadata": {},
   "outputs": [],
   "source": [
    "generate_images_folder = './result'\n",
    "orig_images_folder = './result'\n",
    "\n",
    "gen_image_prefix = 'vae_'\n",
    "orig_images_prefix = 'orig_'"
   ]
  },
  {
   "cell_type": "code",
   "execution_count": 4,
   "id": "20e94890-08c3-4d80-92f2-464bcf57869f",
   "metadata": {
    "execution": {
     "iopub.execute_input": "2024-12-02T12:16:28.524207Z",
     "iopub.status.busy": "2024-12-02T12:16:28.523258Z",
     "iopub.status.idle": "2024-12-02T12:16:31.333645Z",
     "shell.execute_reply": "2024-12-02T12:16:31.332625Z",
     "shell.execute_reply.started": "2024-12-02T12:16:28.524160Z"
    },
    "tags": []
   },
   "outputs": [],
   "source": [
    "import os\n",
    "from PIL import Image\n",
    "import torch\n",
    "from torchvision import transforms\n",
    "from torchmetrics.image.fid import FrechetInceptionDistance\n",
    "\n",
    "# 이미지 폴더 경로\n",
    "vae_images_folder = './result'\n",
    "orig_images_folder = './result'\n",
    "\n",
    "# 이미지 불러오기 및 텐서로 변환하는 함수\n",
    "def load_images_from_folder(folder, start_dir):\n",
    "    images = []\n",
    "    transform = transforms.Compose([\n",
    "        transforms.Resize((128, 128)),  # 이미지 크기를 128x128로 조정\n",
    "        transforms.ToTensor(),\n",
    "        transforms.Lambda(lambda x: (x * 255).byte())\n",
    "    ])\n",
    "    for filename in os.listdir(folder):\n",
    "        if filename.startswith(start_dir):\n",
    "            img_path = os.path.join(folder, filename)\n",
    "            \n",
    "            if not os.path.isfile(img_path):\n",
    "                    continue\n",
    "                    \n",
    "            with Image.open(img_path) as img:                    \n",
    "                img = transform(img)\n",
    "                images.append(img) \n",
    "    return torch.stack(images)\n",
    "\n",
    "# vae_로 시작하는 이미지 불러오기\n",
    "vae_images = load_images_from_folder(generate_images_folder, gen_image_prefix)\n",
    "\n",
    "# orig_로 시작하는 이미지 불러오기\n",
    "orig_images = load_images_from_folder(orig_images_folder, orig_images_prefix)\n",
    "\n",
    "# FID 인스턴스 생성\n",
    "fid = FrechetInceptionDistance(feature=64)\n",
    "\n",
    "# 실제(real) 이미지로 orig_ 이미지 업데이트\n",
    "fid.update(orig_images, real=True)\n",
    "\n",
    "# 생성된(generated) 이미지로 vae_ 이미지 업데이트\n",
    "fid.update(vae_images, real=False)\n",
    "\n",
    "# FID 계산\n",
    "fid_value = fid.compute()\n"
   ]
  },
  {
   "cell_type": "code",
   "execution_count": 5,
   "id": "8151e498-b4df-4100-a1e5-5c3aef9ac272",
   "metadata": {
    "execution": {
     "iopub.execute_input": "2024-12-02T12:16:37.528098Z",
     "iopub.status.busy": "2024-12-02T12:16:37.527587Z",
     "iopub.status.idle": "2024-12-02T12:16:37.536784Z",
     "shell.execute_reply": "2024-12-02T12:16:37.535914Z",
     "shell.execute_reply.started": "2024-12-02T12:16:37.528070Z"
    }
   },
   "outputs": [
    {
     "data": {
      "text/plain": [
       "tensor(5.1265)"
      ]
     },
     "execution_count": 5,
     "metadata": {},
     "output_type": "execute_result"
    }
   ],
   "source": [
    "fid_value"
   ]
  },
  {
   "cell_type": "code",
   "execution_count": 6,
   "id": "b34b1e42-b688-4fa1-8e82-3b44b9819c28",
   "metadata": {
    "execution": {
     "iopub.execute_input": "2024-12-02T12:17:39.524631Z",
     "iopub.status.busy": "2024-12-02T12:17:39.524195Z",
     "iopub.status.idle": "2024-12-02T12:17:39.533032Z",
     "shell.execute_reply": "2024-12-02T12:17:39.531746Z",
     "shell.execute_reply.started": "2024-12-02T12:17:39.524614Z"
    }
   },
   "outputs": [],
   "source": [
    "def calculate_inception_score(images, batch_size=32, splits=10):\n",
    "    # Inception 모델 로드\n",
    "    inception_model = models.inception_v3(pretrained=True, transform_input=False)\n",
    "    inception_model.eval()\n",
    "\n",
    "    # 이미지 텐서를 batch_size로 나누기\n",
    "    n_images = images.size(0)\n",
    "    preds = []\n",
    "    for i in range(0, n_images, batch_size):\n",
    "        batch = images[i:i + batch_size].float() / 255.0  # 0~1 범위로 정규화\n",
    "        with torch.no_grad():\n",
    "            pred = inception_model(batch)\n",
    "            preds.append(F.softmax(pred, dim=1).cpu())\n",
    "\n",
    "    preds = torch.cat(preds, dim=0)\n",
    "\n",
    "    # Inception Score 계산\n",
    "    scores = []\n",
    "    for i in range(splits):\n",
    "        part = preds[i * (n_images // splits): (i + 1) * (n_images // splits), :]\n",
    "        py = torch.mean(part, dim=0)\n",
    "        scores.append(torch.exp(torch.mean(torch.sum(part * torch.log(part / py), dim=1))))\n",
    "\n",
    "    return torch.mean(torch.tensor(scores)), torch.std(torch.tensor(scores))"
   ]
  },
  {
   "cell_type": "code",
   "execution_count": 8,
   "id": "64db5505-b48b-446d-b536-7c6cc8dc8587",
   "metadata": {
    "execution": {
     "iopub.execute_input": "2024-12-02T12:18:39.592208Z",
     "iopub.status.busy": "2024-12-02T12:18:39.591837Z",
     "iopub.status.idle": "2024-12-02T12:18:41.232764Z",
     "shell.execute_reply": "2024-12-02T12:18:41.232205Z",
     "shell.execute_reply.started": "2024-12-02T12:18:39.592191Z"
    },
    "tags": []
   },
   "outputs": [
    {
     "name": "stderr",
     "output_type": "stream",
     "text": [
      "/opt/conda/lib/python3.9/site-packages/torchvision/models/_utils.py:208: UserWarning: The parameter 'pretrained' is deprecated since 0.13 and may be removed in the future, please use 'weights' instead.\n",
      "  warnings.warn(\n",
      "/opt/conda/lib/python3.9/site-packages/torchvision/models/_utils.py:223: UserWarning: Arguments other than a weight enum or `None` for 'weights' are deprecated since 0.13 and may be removed in the future. The current behavior is equivalent to passing `weights=Inception_V3_Weights.IMAGENET1K_V1`. You can also use `weights=Inception_V3_Weights.DEFAULT` to get the most up-to-date weights.\n",
      "  warnings.warn(msg)\n",
      "Downloading: \"https://download.pytorch.org/models/inception_v3_google-0cc3c7bd.pth\" to /root/.cache/torch/hub/checkpoints/inception_v3_google-0cc3c7bd.pth\n"
     ]
    },
    {
     "data": {
      "application/vnd.jupyter.widget-view+json": {
       "model_id": "b256a3551e3948d69f91c9998203f974",
       "version_major": 2,
       "version_minor": 0
      },
      "text/plain": [
       "  0%|          | 0.00/104M [00:00<?, ?B/s]"
      ]
     },
     "metadata": {},
     "output_type": "display_data"
    },
    {
     "name": "stdout",
     "output_type": "stream",
     "text": [
      "Inception Score: 3.3658289909362793 ± 1.016157627105713\n"
     ]
    }
   ],
   "source": [
    "import os\n",
    "from PIL import Image\n",
    "import torch\n",
    "from torchvision import transforms, models\n",
    "from torch.nn import functional as F\n",
    "\n",
    "generated_images = load_images_from_folder(generate_images_folder, gen_image_prefix)\n",
    "\n",
    "# Inception Score 계산\n",
    "mean_score, std_score = calculate_inception_score(generated_images)\n",
    "\n",
    "print(f\"Inception Score: {mean_score.item()} ± {std_score.item()}\")"
   ]
  },
  {
   "cell_type": "code",
   "execution_count": null,
   "id": "18470810-add3-4e26-a097-3e6b508a89ad",
   "metadata": {},
   "outputs": [],
   "source": []
  }
 ],
 "metadata": {
  "kernelspec": {
   "display_name": "Python 3 (ipykernel)",
   "language": "python",
   "name": "python3"
  },
  "language_info": {
   "codemirror_mode": {
    "name": "ipython",
    "version": 3
   },
   "file_extension": ".py",
   "mimetype": "text/x-python",
   "name": "python",
   "nbconvert_exporter": "python",
   "pygments_lexer": "ipython3",
   "version": "3.9.15"
  }
 },
 "nbformat": 4,
 "nbformat_minor": 5
}
